{
  "nbformat": 4,
  "nbformat_minor": 0,
  "metadata": {
    "colab": {
      "name": "Super-convergence.ipynb",
      "provenance": [],
      "collapsed_sections": [
        "DFsjQPwy7M7p"
      ]
    },
    "kernelspec": {
      "name": "python3",
      "display_name": "Python 3"
    },
    "accelerator": "GPU"
  },
  "cells": [
    {
      "cell_type": "code",
      "metadata": {
        "id": "9sRls0YqvqRw",
        "outputId": "98e215a6-755e-4b10-e00c-ff4895daf415",
        "colab": {
          "base_uri": "https://localhost:8080/",
          "height": 35
        }
      },
      "source": [
        "# load Google Driver\n",
        "from google.colab import drive\n",
        "drive.mount('/content/drive', force_remount=True)\n",
        "my_path = '/content/drive/My Drive/Colab Notebooks/EVA 5/11.superconvergence/'\n"
      ],
      "execution_count": 6,
      "outputs": [
        {
          "output_type": "stream",
          "text": [
            "Mounted at /content/drive\n"
          ],
          "name": "stdout"
        }
      ]
    },
    {
      "cell_type": "code",
      "metadata": {
        "id": "bhvNT86Yfnb9",
        "outputId": "1a7933e1-962d-42f7-f8d7-420d99081358",
        "colab": {
          "base_uri": "https://localhost:8080/",
          "height": 347
        }
      },
      "source": [
        "!rm -rf '/content/drive/My Drive/Colab Notebooks/EVA 5/11.superconvergence/__pycache__'\n",
        "!ls -lrt '/content/drive/My Drive/Colab Notebooks/EVA 5/11.superconvergence/'"
      ],
      "execution_count": 7,
      "outputs": [
        {
          "output_type": "stream",
          "text": [
            "total 54835\n",
            "-rw------- 1 root root     3694 Oct 10 17:05  VS_NET.py\n",
            "-rw------- 1 root root     5554 Oct 10 17:05  Test_Train_OCP.py\n",
            "-rw------- 1 root root     4482 Oct 10 17:05  Resnet.py\n",
            "-rw------- 1 root root      599 Oct 10 17:05  README.md\n",
            "-rw------- 1 root root     4077 Oct 10 17:05  QuizDNN.py\n",
            "-rw------- 1 root root     3657 Oct 10 17:05  Plots.py\n",
            "-rw------- 1 root root    31322 Oct 10 17:05  grid_image.png\n",
            "-rw------- 1 root root     5882 Oct 10 17:05  GradCam.py\n",
            "-rw------- 1 root root    20889 Oct 10 17:05 'EVA5 Assignment 9a'\n",
            "-rw------- 1 root root     3051 Oct 10 17:05  DH_NET.py\n",
            "-rw------- 1 root root     4849 Oct 10 17:05  dataTorchTransformLoad.py\n",
            "-rw------- 1 root root     5380 Oct 10 17:05  Test_Train.py\n",
            "drwx------ 2 root root     4096 Oct 10 17:06  outputs\n",
            "-rw------- 1 root root  1275057 Oct 10 18:24  01-Super-convergence.ipynb\n",
            "-rw------- 1 root root     2132 Oct 11 13:48  dataAlbumentationLoad.py\n",
            "-rw------- 1 root root  1084764 Oct 11 14:43  02-Super-convergence_Prasad.ipynb\n",
            "-rw------- 1 root root 52628502 Oct 11 16:19  best_model.pt\n",
            "-rw------- 1 root root  1058472 Oct 11 16:19 'Copy of 02-Super-convergence_Prasad.ipynb'\n"
          ],
          "name": "stdout"
        }
      ]
    },
    {
      "cell_type": "code",
      "metadata": {
        "id": "Lf6FbeysuFsx"
      },
      "source": [
        "# import\n",
        "\n",
        "from __future__ import print_function\n",
        "import torch\n",
        "import torch.nn as nn\n",
        "import torch.optim as optim\n",
        "# import torch.functional as F\n",
        "import torch.nn.functional as F\n",
        "from torchvision import datasets, transforms\n",
        "import torchvision\n",
        "import matplotlib.pyplot as plt\n",
        "import numpy as np\n",
        "from torchsummary import summary\n",
        "from tqdm import tqdm\n",
        "from torch.optim.lr_scheduler import StepLR,ReduceLROnPlateau\n",
        "import sys\n",
        "import random\n",
        "import matplotlib"
      ],
      "execution_count": 8,
      "outputs": []
    },
    {
      "cell_type": "code",
      "metadata": {
        "id": "FT6uwEiYhIS1"
      },
      "source": [
        "# import for all the modular codes\n",
        "import VS_NET\n",
        "import Test_Train\n",
        "import Test_Train_OCP\n",
        "import Plots\n",
        "import dataTorchTransformLoad as dtl\n",
        "import Resnet\n",
        "import GradCam\n",
        "import Resnet\n",
        "import dataAlbumentationLoad as dal\n",
        "import GradCam\n",
        "from GradCam import GradCAM, visualize_cam, save_misclassified, download_img_pil,pil_img_transform\n",
        "from Plots import plot_misclassified,imshow\n",
        "import DH_NET"
      ],
      "execution_count": 10,
      "outputs": []
    },
    {
      "cell_type": "code",
      "metadata": {
        "id": "pc0i_uqq14Sl"
      },
      "source": [
        "sys.path.append('/content/drive/My Drive/Colab Notebooks/EVA 5/11.superconvergence/')"
      ],
      "execution_count": 9,
      "outputs": []
    },
    {
      "cell_type": "code",
      "metadata": {
        "id": "-FZa1IP0Idsl",
        "outputId": "f2318fcf-8f49-4779-a050-8dd0d0921371",
        "colab": {
          "base_uri": "https://localhost:8080/",
          "height": 35
        }
      },
      "source": [
        "my_path"
      ],
      "execution_count": 11,
      "outputs": [
        {
          "output_type": "execute_result",
          "data": {
            "application/vnd.google.colaboratory.intrinsic+json": {
              "type": "string"
            },
            "text/plain": [
              "'/content/drive/My Drive/Colab Notebooks/EVA 5/11.superconvergence/'"
            ]
          },
          "metadata": {
            "tags": []
          },
          "execution_count": 11
        }
      ]
    },
    {
      "cell_type": "code",
      "metadata": {
        "id": "i27LBLvZkDvW",
        "outputId": "d1061466-4168-4739-bd22-6b40a3d1891f",
        "colab": {
          "base_uri": "https://localhost:8080/",
          "height": 303
        }
      },
      "source": [
        "def get_triangular_lr(iteration, stepsize, base_lr, max_lr):\n",
        "    \"\"\"Given the inputs, calculates the lr that should be applicable for this iteration\"\"\"\n",
        "    cycle = np.floor(1 + iteration/(2  * stepsize))\n",
        "    x = np.abs(iteration/stepsize - 2 * cycle + 1)\n",
        "    lr = base_lr + (max_lr - base_lr) * np.maximum(0, (1-x))\n",
        "    return lr\n",
        "\n",
        "# Demo of how the LR varies with iterations\n",
        "num_iterations = 4000\n",
        "stepsize = 600\n",
        "base_lr = 1e-4\n",
        "max_lr = 1\n",
        "lr_trend = list()\n",
        "\n",
        "for iteration in range(num_iterations):\n",
        "    lr = get_triangular_lr(iteration, stepsize, base_lr, max_lr)\n",
        "    # Update your optimizer to use this learning rate in this iteration\n",
        "    lr_trend.append(lr)\n",
        "plt.xlabel(\"Iterations\")\n",
        "plt.ylabel(\"Learning Rate\")\n",
        "plt.plot(lr_trend)"
      ],
      "execution_count": 34,
      "outputs": [
        {
          "output_type": "execute_result",
          "data": {
            "text/plain": [
              "[<matplotlib.lines.Line2D at 0x7f4b174e1a58>]"
            ]
          },
          "metadata": {
            "tags": []
          },
          "execution_count": 34
        },
        {
          "output_type": "display_data",
          "data": {
            "image/png": "[encoded data removed]",
            "text/plain": [
              "<Figure size 432x288 with 1 Axes>"
            ]
          },
          "metadata": {
            "tags": []
          }
        }
      ]
    },
    {
      "cell_type": "code",
      "metadata": {
        "id": "-04LycxQfECt"
      },
      "source": [
        "# def imshow(img):\n",
        "#     # img = img / 2 + 0.5     # unnormalize\n",
        "#     img[0] = img[0]*0.24703223 + 0.49139968\n",
        "#     img[1] = img[1]*0.24348513 + 0.48215841\n",
        "#     img[2] = img[2]*0.26158784 + 0.44653091\n",
        "#     npimg = img.numpy()\n",
        "#     image = np.transpose(npimg, (1, 2, 0))\n",
        "#     plt.imshow(image)\n",
        "#     plt.grid(b=None)\n",
        "#     return image\n",
        "\n",
        "def imshow1(img,c = \"\" ):\n",
        "  #img = img / 2 + 0.5     # unnormalize\n",
        "  npimg = img.numpy()\n",
        "  fig = plt.figure(figsize=(15,15))\n",
        "  plt.imshow(np.transpose(npimg, (1, 2, 0)),interpolation='none')\n",
        "  plt.title(c)\n",
        "  plt.grid(b=None)\n",
        "  plt.savefig(my_path+'/grid_image.png')"
      ],
      "execution_count": 7,
      "outputs": []
    },
    {
      "cell_type": "code",
      "metadata": {
        "id": "Ll2BrqaR4vou"
      },
      "source": [
        "\n",
        "#initializers \n",
        "dropout_value = 0.05\n",
        "num_splits=2\n",
        "start_epoch=0\n",
        "EPOCHS = 24\n",
        "EPOCHS1 = 50\n",
        "input_ch=3\n",
        "best_acc = 90\n",
        "\n",
        "metric_values = {}\n",
        "models={}\n",
        "\n",
        "batch_size_GPU=512\n",
        "batch_size_CPU=16\n",
        "\n",
        "model_save_path = my_path+\"/best_model.pt\"\n"
      ],
      "execution_count": 12,
      "outputs": []
    },
    {
      "cell_type": "code",
      "metadata": {
        "id": "umQjGcRA3lax"
      },
      "source": [
        "import albumentations as A\n",
        "\n",
        "channel_means = (0.49139968, 0.48215841, 0.44653091)\n",
        "channel_stdevs = (0.24703223, 0.24348513, 0.26158784)\n",
        "train_transform = dal.AlbumentationTransforms([\n",
        "                                       A.RandomCrop(32,32, p = 4),\n",
        "                                       A.HorizontalFlip(),\n",
        "                                       A.Normalize(mean=channel_means, std=channel_stdevs),\n",
        "                                       A.Cutout(num_holes=1, max_h_size=8,max_w_size = 8,p=1 )\n",
        "                                       ])\n",
        "# # Test Phase transformations\n",
        "test_transform = dal.AlbumentationTransforms([A.Normalize(mean=channel_means, std=channel_stdevs)])"
      ],
      "execution_count": 13,
      "outputs": []
    },
    {
      "cell_type": "code",
      "metadata": {
        "id": "LGYNbyqXHivo",
        "outputId": "c6927826-c5c7-4879-d7ba-e6a42b66577c",
        "colab": {
          "base_uri": "https://localhost:8080/",
          "height": 69
        }
      },
      "source": [
        "classes, train_loader, test_loader = dal.load(train_transform,test_transform, batch_size=512)\n"
      ],
      "execution_count": 14,
      "outputs": [
        {
          "output_type": "stream",
          "text": [
            "Files already downloaded and verified\n",
            "Files already downloaded and verified\n",
            "CUDA Available? True\n"
          ],
          "name": "stdout"
        }
      ]
    },
    {
      "cell_type": "code",
      "metadata": {
        "id": "9iY47LJIrSIj",
        "outputId": "c99f022d-09d8-4baa-a8b2-e7194207f7aa",
        "colab": {
          "base_uri": "https://localhost:8080/",
          "height": 35
        }
      },
      "source": [
        "len(test_loader), len(train_loader)"
      ],
      "execution_count": 15,
      "outputs": [
        {
          "output_type": "execute_result",
          "data": {
            "text/plain": [
              "(20, 98)"
            ]
          },
          "metadata": {
            "tags": []
          },
          "execution_count": 15
        }
      ]
    },
    {
      "cell_type": "code",
      "metadata": {
        "id": "P8DJMw33rYyK",
        "outputId": "143a5a33-0403-4a86-e0f2-33a6cc35a421",
        "colab": {
          "base_uri": "https://localhost:8080/",
          "height": 35
        }
      },
      "source": [
        "10000/512, 50000/512"
      ],
      "execution_count": 16,
      "outputs": [
        {
          "output_type": "execute_result",
          "data": {
            "text/plain": [
              "(19.53125, 97.65625)"
            ]
          },
          "metadata": {
            "tags": []
          },
          "execution_count": 16
        }
      ]
    },
    {
      "cell_type": "code",
      "metadata": {
        "id": "lHWN1WsAnCv5",
        "outputId": "3b730c6f-773d-4e64-cee6-c07d6c5dbe90",
        "colab": {
          "base_uri": "https://localhost:8080/",
          "height": 121
        }
      },
      "source": [
        "train_transform = transforms.Compose([transforms.ToTensor()])\n",
        "train_set = torchvision.datasets.CIFAR10('./data', train=True, download=True, transform=train_transform)\n",
        "    #print(vars(train_set))\n",
        "print(\"Shape : \", train_set.data.shape)\n",
        "print(\"Mean : \",train_set.data.mean(axis=(0,1,2))/255)\n",
        "print(\"Std : \",train_set.data.std(axis=(0,1,2))/255)\n",
        "print(\"Min : \",train_set.data.min(axis=(0,1,2))/255)\n",
        "print(\"Max : \",train_set.data.max(axis=(0,1,2))/255)"
      ],
      "execution_count": null,
      "outputs": [
        {
          "output_type": "stream",
          "text": [
            "Files already downloaded and verified\n",
            "Shape :  (50000, 32, 32, 3)\n",
            "Mean :  [0.49139968 0.48215841 0.44653091]\n",
            "Std :  [0.24703223 0.24348513 0.26158784]\n",
            "Min :  [0. 0. 0.]\n",
            "Max :  [1. 1. 1.]\n"
          ],
          "name": "stdout"
        }
      ]
    },
    {
      "cell_type": "code",
      "metadata": {
        "id": "Uw_sqYqODT98",
        "outputId": "7fea5f18-439c-4fa0-c85b-19fc50eda566",
        "colab": {
          "base_uri": "https://localhost:8080/",
          "height": 319
        }
      },
      "source": [
        "dataiter = iter(test_loader)\n",
        "images, labels = dataiter.next()\n",
        "\n",
        "# plt.style.use('dark_background')\n",
        "figure = plt.figure()\n",
        "plt.figure(figsize=(20,20))\n",
        "num_of_images = 16\n",
        "for index in range(1, num_of_images):\n",
        "    plt.subplot(8, 8, index)\n",
        "    plt.axis('off')\n",
        "    plt.title(classes[labels[index].item()])\n",
        "    imshow(images[index])"
      ],
      "execution_count": null,
      "outputs": [
        {
          "output_type": "display_data",
          "data": {
            "text/plain": [
              "<Figure size 432x288 with 0 Axes>"
            ]
          },
          "metadata": {
            "tags": []
          }
        },
        {
          "output_type": "display_data",
          "data": {
            "image/png": "[encoded data removed]",
            "text/plain": [
              "<Figure size 1440x1440 with 15 Axes>"
            ]
          },
          "metadata": {
            "tags": []
          }
        }
      ]
    },
    {
      "cell_type": "markdown",
      "metadata": {
        "id": "PPjMU342rPn_"
      },
      "source": [
        "#DH_NET"
      ]
    },
    {
      "cell_type": "code",
      "metadata": {
        "id": "waJyTlic_9Sz"
      },
      "source": [
        "from torchsummary import summary\n",
        "use_cuda = torch.cuda.is_available()\n",
        "device = torch.device(\"cuda\" if use_cuda else \"cpu\")\n",
        "model = DH_NET.Net().to(device)"
      ],
      "execution_count": 17,
      "outputs": []
    },
    {
      "cell_type": "code",
      "metadata": {
        "id": "PuR7fsOSrOUk",
        "outputId": "801985a8-2bc3-4df7-ca0d-356a41c561d1",
        "colab": {
          "base_uri": "https://localhost:8080/",
          "height": 745
        }
      },
      "source": [
        "summary(model, input_size=(3, 32, 32))"
      ],
      "execution_count": 18,
      "outputs": [
        {
          "output_type": "stream",
          "text": [
            "----------------------------------------------------------------\n",
            "        Layer (type)               Output Shape         Param #\n",
            "================================================================\n",
            "            Conv2d-1           [-1, 64, 32, 32]           1,728\n",
            "       BatchNorm2d-2           [-1, 64, 32, 32]             128\n",
            "              ReLU-3           [-1, 64, 32, 32]               0\n",
            "            Conv2d-4          [-1, 128, 32, 32]          73,728\n",
            "         MaxPool2d-5          [-1, 128, 16, 16]               0\n",
            "       BatchNorm2d-6          [-1, 128, 16, 16]             256\n",
            "              ReLU-7          [-1, 128, 16, 16]               0\n",
            "            Conv2d-8          [-1, 128, 16, 16]         147,456\n",
            "       BatchNorm2d-9          [-1, 128, 16, 16]             256\n",
            "             ReLU-10          [-1, 128, 16, 16]               0\n",
            "           Conv2d-11          [-1, 128, 16, 16]         147,456\n",
            "      BatchNorm2d-12          [-1, 128, 16, 16]             256\n",
            "             ReLU-13          [-1, 128, 16, 16]               0\n",
            "           Conv2d-14          [-1, 256, 16, 16]         294,912\n",
            "        MaxPool2d-15            [-1, 256, 8, 8]               0\n",
            "      BatchNorm2d-16            [-1, 256, 8, 8]             512\n",
            "             ReLU-17            [-1, 256, 8, 8]               0\n",
            "           Conv2d-18            [-1, 512, 8, 8]       1,179,648\n",
            "        MaxPool2d-19            [-1, 512, 4, 4]               0\n",
            "      BatchNorm2d-20            [-1, 512, 4, 4]           1,024\n",
            "             ReLU-21            [-1, 512, 4, 4]               0\n",
            "           Conv2d-22            [-1, 512, 4, 4]       2,359,296\n",
            "      BatchNorm2d-23            [-1, 512, 4, 4]           1,024\n",
            "             ReLU-24            [-1, 512, 4, 4]               0\n",
            "           Conv2d-25            [-1, 512, 4, 4]       2,359,296\n",
            "      BatchNorm2d-26            [-1, 512, 4, 4]           1,024\n",
            "             ReLU-27            [-1, 512, 4, 4]               0\n",
            "        MaxPool2d-28            [-1, 512, 1, 1]               0\n",
            "           Linear-29                   [-1, 10]           5,130\n",
            "================================================================\n",
            "Total params: 6,573,130\n",
            "Trainable params: 6,573,130\n",
            "Non-trainable params: 0\n",
            "----------------------------------------------------------------\n",
            "Input size (MB): 0.01\n",
            "Forward/backward pass size (MB): 6.44\n",
            "Params size (MB): 25.07\n",
            "Estimated Total Size (MB): 31.53\n",
            "----------------------------------------------------------------\n"
          ],
          "name": "stdout"
        }
      ]
    },
    {
      "cell_type": "markdown",
      "metadata": {
        "id": "0wst-EJxFDHO"
      },
      "source": [
        "# LR Finder"
      ]
    },
    {
      "cell_type": "code",
      "metadata": {
        "id": "uIkxuf6XFCNn"
      },
      "source": [
        "!pip install torch_lr_finder\n",
        "from torch_lr_finder import LRFinder\n",
        "criterion = nn.CrossEntropyLoss()\n",
        "optimiser = optim.SGD(model.parameters(), lr=1e-05,momentum=0.9 ,weight_decay = 0.0001)\n",
        "lr_finder = LRFinder(model, optimiser, criterion, device=\"cuda\")\n",
        "lr_finder.range_test(train_loader, val_loader=test_loader, end_lr=1, num_iter=98 ,step_mode=\"exp\")\n",
        "print(lr_finder)"
      ],
      "execution_count": null,
      "outputs": []
    },
    {
      "cell_type": "code",
      "metadata": {
        "id": "9AwF64C4HWHs",
        "outputId": "0e810f1d-7274-4d48-a0ae-605b195f6d69",
        "colab": {
          "base_uri": "https://localhost:8080/",
          "height": 361
        }
      },
      "source": [
        "lr_finder.plot(log_lr=True)"
      ],
      "execution_count": null,
      "outputs": [
        {
          "output_type": "stream",
          "text": [
            "LR suggestion: steepest gradient\n",
            "Suggested LR: 4.25E-03\n"
          ],
          "name": "stdout"
        },
        {
          "output_type": "display_data",
          "data": {
            "image/png": "[encoded data removed]",
            "text/plain": [
              "<Figure size 432x288 with 1 Axes>"
            ]
          },
          "metadata": {
            "tags": []
          }
        },
        {
          "output_type": "execute_result",
          "data": {
            "text/plain": [
              "(<matplotlib.axes._subplots.AxesSubplot at 0x7f14c4ead908>,\n",
              " 0.00425467096331598)"
            ]
          },
          "metadata": {
            "tags": []
          },
          "execution_count": 21
        }
      ]
    },
    {
      "cell_type": "code",
      "metadata": {
        "id": "-Czn-fVSNXVH"
      },
      "source": [
        "ideal_lr = lr_finder.history['lr'][lr_finder.history['loss'].index(lr_finder.best_loss)]\n",
        "#lr_finder.reset()"
      ],
      "execution_count": 17,
      "outputs": []
    },
    {
      "cell_type": "code",
      "metadata": {
        "id": "ABy8aY2rc1Bp",
        "outputId": "07a4b0cc-8e8f-4aca-ee78-73ef6c8c7d53",
        "colab": {
          "base_uri": "https://localhost:8080/",
          "height": 35
        }
      },
      "source": [
        "print(ideal_lr)"
      ],
      "execution_count": 25,
      "outputs": [
        {
          "output_type": "stream",
          "text": [
            "0.00976541539256097\n"
          ],
          "name": "stdout"
        }
      ]
    },
    {
      "cell_type": "markdown",
      "metadata": {
        "id": "_T2noiKtl5Ro"
      },
      "source": [
        "# Max LR Finder\n",
        "\n",
        "use step scheduler to increase the learning rate from 0.0001 to 0.03 with 2 steps per epoch. \n",
        "\n",
        "Identify the learning rate with max accuracy. "
      ]
    },
    {
      "cell_type": "code",
      "metadata": {
        "id": "2nYgJHOK6TOy"
      },
      "source": [
        "\n",
        "# Uses Step lr to change the learning rate\n",
        "criterion = nn.CrossEntropyLoss()\n",
        "optimizer = optim.SGD(model.parameters(), lr=0.001, momentum=0.9,nesterov=False)\n",
        "scheduler = StepLR(optimizer, step_size=2, gamma=1.8)"
      ],
      "execution_count": 20,
      "outputs": []
    },
    {
      "cell_type": "code",
      "metadata": {
        "id": "Fen8j4uV_aAr",
        "outputId": "363f0638-ea52-4850-8038-20d7ba37dd1c",
        "colab": {
          "base_uri": "https://localhost:8080/",
          "height": 285
        }
      },
      "source": [
        "lr_list =[]\n",
        "for i in range(EPOCHS):\n",
        "  # print('EPOCH',i)\n",
        "  # print(optimizer.param_groups[0]['lr'])\n",
        "  lr_list.append(optimizer.param_groups[0]['lr'])\n",
        "  optimizer.step()\n",
        "  scheduler.step()\n",
        "plt.plot(lr_list) "
      ],
      "execution_count": 22,
      "outputs": [
        {
          "output_type": "execute_result",
          "data": {
            "text/plain": [
              "[<matplotlib.lines.Line2D at 0x7f12e0035c88>]"
            ]
          },
          "metadata": {
            "tags": []
          },
          "execution_count": 22
        },
        {
          "output_type": "display_data",
          "data": {
            "image/png": "[encoded data removed]",
            "text/plain": [
              "<Figure size 432x288 with 1 Axes>"
            ]
          },
          "metadata": {
            "tags": []
          }
        }
      ]
    },
    {
      "cell_type": "code",
      "metadata": {
        "id": "2-h1aGFq6Ta-",
        "outputId": "cf691817-be80-4a35-d4a6-221a7bb2386b",
        "colab": {
          "base_uri": "https://localhost:8080/",
          "height": 1000
        }
      },
      "source": [
        "exp_name = 'Best Learning Rate'\n",
        "\n",
        "trainer = Test_Train_OCP.Trainer(model,device,train_loader,test_loader,optimizer,start_epoch,EPOCHS,scheduler,model_save_path,best_acc)\n",
        "train_metric, test_metric,learning_rate = trainer.train(l1_lambda=0, l2_lambda=0)\n",
        "\n",
        "# save the metrics in dictionary\n",
        "metric_values[exp_name] = (train_metric, test_metric)"
      ],
      "execution_count": 21,
      "outputs": [
        {
          "output_type": "stream",
          "text": [
            "\r  0%|          | 0/98 [00:00<?, ?it/s]"
          ],
          "name": "stderr"
        },
        {
          "output_type": "stream",
          "text": [
            "EPOCH: 0\n",
            "learning rate  0.001\n"
          ],
          "name": "stdout"
        },
        {
          "output_type": "stream",
          "text": [
            "Loss=1.3327585458755493 Batch_id=97 Accuracy=40.20: 100%|██████████| 98/98 [00:24<00:00,  4.05it/s]\n",
            "  0%|          | 0/98 [00:00<?, ?it/s]"
          ],
          "name": "stderr"
        },
        {
          "output_type": "stream",
          "text": [
            "\n",
            "Test set: Average loss: 1.3237, Accuracy: 5212/10000 (52.12%)\n",
            "\n",
            "emptying the cache\n",
            "EPOCH: 1\n",
            "learning rate  0.001\n"
          ],
          "name": "stdout"
        },
        {
          "output_type": "stream",
          "text": [
            "Loss=1.0857518911361694 Batch_id=97 Accuracy=56.79: 100%|██████████| 98/98 [00:25<00:00,  3.90it/s]\n",
            "  0%|          | 0/98 [00:00<?, ?it/s]"
          ],
          "name": "stderr"
        },
        {
          "output_type": "stream",
          "text": [
            "\n",
            "Test set: Average loss: 1.1248, Accuracy: 5951/10000 (59.51%)\n",
            "\n",
            "EPOCH: 2\n",
            "learning rate  0.0018000000000000002\n"
          ],
          "name": "stdout"
        },
        {
          "output_type": "stream",
          "text": [
            "Loss=1.068009376525879 Batch_id=97 Accuracy=63.22: 100%|██████████| 98/98 [00:24<00:00,  3.93it/s]\n",
            "  0%|          | 0/98 [00:00<?, ?it/s]"
          ],
          "name": "stderr"
        },
        {
          "output_type": "stream",
          "text": [
            "\n",
            "Test set: Average loss: 1.0195, Accuracy: 6360/10000 (63.60%)\n",
            "\n",
            "EPOCH: 3\n",
            "learning rate  0.0018000000000000002\n"
          ],
          "name": "stdout"
        },
        {
          "output_type": "stream",
          "text": [
            "Loss=0.8226189613342285 Batch_id=97 Accuracy=69.76: 100%|██████████| 98/98 [00:24<00:00,  3.99it/s]\n",
            "  0%|          | 0/98 [00:00<?, ?it/s]"
          ],
          "name": "stderr"
        },
        {
          "output_type": "stream",
          "text": [
            "\n",
            "Test set: Average loss: 0.9617, Accuracy: 6639/10000 (66.39%)\n",
            "\n",
            "EPOCH: 4\n",
            "learning rate  0.0032400000000000003\n"
          ],
          "name": "stdout"
        },
        {
          "output_type": "stream",
          "text": [
            "Loss=0.7389047145843506 Batch_id=97 Accuracy=73.06: 100%|██████████| 98/98 [00:24<00:00,  3.93it/s]\n",
            "  0%|          | 0/98 [00:00<?, ?it/s]"
          ],
          "name": "stderr"
        },
        {
          "output_type": "stream",
          "text": [
            "\n",
            "Test set: Average loss: 0.8138, Accuracy: 7166/10000 (71.66%)\n",
            "\n",
            "EPOCH: 5\n",
            "learning rate  0.0032400000000000003\n"
          ],
          "name": "stdout"
        },
        {
          "output_type": "stream",
          "text": [
            "Loss=0.6101453304290771 Batch_id=97 Accuracy=77.37: 100%|██████████| 98/98 [00:25<00:00,  3.92it/s]\n",
            "  0%|          | 0/98 [00:00<?, ?it/s]"
          ],
          "name": "stderr"
        },
        {
          "output_type": "stream",
          "text": [
            "\n",
            "Test set: Average loss: 0.7355, Accuracy: 7475/10000 (74.75%)\n",
            "\n",
            "EPOCH: 6\n",
            "learning rate  0.005832\n"
          ],
          "name": "stdout"
        },
        {
          "output_type": "stream",
          "text": [
            "Loss=0.5087488889694214 Batch_id=97 Accuracy=77.26: 100%|██████████| 98/98 [00:24<00:00,  3.93it/s]\n",
            "  0%|          | 0/98 [00:00<?, ?it/s]"
          ],
          "name": "stderr"
        },
        {
          "output_type": "stream",
          "text": [
            "\n",
            "Test set: Average loss: 0.7830, Accuracy: 7364/10000 (73.64%)\n",
            "\n",
            "EPOCH: 7\n",
            "learning rate  0.005832\n"
          ],
          "name": "stdout"
        },
        {
          "output_type": "stream",
          "text": [
            "Loss=0.40145134925842285 Batch_id=97 Accuracy=81.63: 100%|██████████| 98/98 [00:24<00:00,  3.95it/s]\n",
            "  0%|          | 0/98 [00:00<?, ?it/s]"
          ],
          "name": "stderr"
        },
        {
          "output_type": "stream",
          "text": [
            "\n",
            "Test set: Average loss: 0.7496, Accuracy: 7520/10000 (75.20%)\n",
            "\n",
            "EPOCH: 8\n",
            "learning rate  0.010497600000000001\n"
          ],
          "name": "stdout"
        },
        {
          "output_type": "stream",
          "text": [
            "Loss=0.652307391166687 Batch_id=97 Accuracy=79.54: 100%|██████████| 98/98 [00:24<00:00,  3.95it/s]\n",
            "  0%|          | 0/98 [00:00<?, ?it/s]"
          ],
          "name": "stderr"
        },
        {
          "output_type": "stream",
          "text": [
            "\n",
            "Test set: Average loss: 0.7661, Accuracy: 7555/10000 (75.55%)\n",
            "\n",
            "EPOCH: 9\n",
            "learning rate  0.010497600000000001\n"
          ],
          "name": "stdout"
        },
        {
          "output_type": "stream",
          "text": [
            "Loss=0.5893598198890686 Batch_id=97 Accuracy=83.71: 100%|██████████| 98/98 [00:24<00:00,  3.94it/s]\n",
            "  0%|          | 0/98 [00:00<?, ?it/s]"
          ],
          "name": "stderr"
        },
        {
          "output_type": "stream",
          "text": [
            "\n",
            "Test set: Average loss: 0.6190, Accuracy: 7998/10000 (79.98%)\n",
            "\n",
            "EPOCH: 10\n",
            "learning rate  0.01889568\n"
          ],
          "name": "stdout"
        },
        {
          "output_type": "stream",
          "text": [
            "Loss=0.5561005473136902 Batch_id=97 Accuracy=77.08: 100%|██████████| 98/98 [00:24<00:00,  3.97it/s]\n",
            "  0%|          | 0/98 [00:00<?, ?it/s]"
          ],
          "name": "stderr"
        },
        {
          "output_type": "stream",
          "text": [
            "\n",
            "Test set: Average loss: 0.7603, Accuracy: 7655/10000 (76.55%)\n",
            "\n",
            "emptying the cache\n",
            "EPOCH: 11\n",
            "learning rate  0.01889568\n"
          ],
          "name": "stdout"
        },
        {
          "output_type": "stream",
          "text": [
            "Loss=0.4333566427230835 Batch_id=97 Accuracy=83.54: 100%|██████████| 98/98 [00:24<00:00,  3.96it/s]\n",
            "  0%|          | 0/98 [00:00<?, ?it/s]"
          ],
          "name": "stderr"
        },
        {
          "output_type": "stream",
          "text": [
            "\n",
            "Test set: Average loss: 0.6358, Accuracy: 8141/10000 (81.41%)\n",
            "\n",
            "EPOCH: 12\n",
            "learning rate  0.034012224\n"
          ],
          "name": "stdout"
        },
        {
          "output_type": "stream",
          "text": [
            "Loss=0.7636502385139465 Batch_id=97 Accuracy=71.98: 100%|██████████| 98/98 [00:24<00:00,  3.93it/s]\n",
            "  0%|          | 0/98 [00:00<?, ?it/s]"
          ],
          "name": "stderr"
        },
        {
          "output_type": "stream",
          "text": [
            "\n",
            "Test set: Average loss: 0.6984, Accuracy: 7909/10000 (79.09%)\n",
            "\n",
            "EPOCH: 13\n",
            "learning rate  0.034012224\n"
          ],
          "name": "stdout"
        },
        {
          "output_type": "stream",
          "text": [
            "Loss=0.431537389755249 Batch_id=97 Accuracy=83.78: 100%|██████████| 98/98 [00:24<00:00,  3.94it/s]\n",
            "  0%|          | 0/98 [00:00<?, ?it/s]"
          ],
          "name": "stderr"
        },
        {
          "output_type": "stream",
          "text": [
            "\n",
            "Test set: Average loss: 0.6167, Accuracy: 8228/10000 (82.28%)\n",
            "\n",
            "EPOCH: 14\n",
            "learning rate  0.0612220032\n"
          ],
          "name": "stdout"
        },
        {
          "output_type": "stream",
          "text": [
            "Loss=0.7678978443145752 Batch_id=97 Accuracy=69.74: 100%|██████████| 98/98 [00:24<00:00,  3.95it/s]\n",
            "  0%|          | 0/98 [00:00<?, ?it/s]"
          ],
          "name": "stderr"
        },
        {
          "output_type": "stream",
          "text": [
            "\n",
            "Test set: Average loss: 1.3888, Accuracy: 6982/10000 (69.82%)\n",
            "\n",
            "EPOCH: 15\n",
            "learning rate  0.0612220032\n"
          ],
          "name": "stdout"
        },
        {
          "output_type": "stream",
          "text": [
            "Loss=0.447781503200531 Batch_id=97 Accuracy=82.33: 100%|██████████| 98/98 [00:24<00:00,  3.95it/s]\n",
            "  0%|          | 0/98 [00:00<?, ?it/s]"
          ],
          "name": "stderr"
        },
        {
          "output_type": "stream",
          "text": [
            "\n",
            "Test set: Average loss: 0.4592, Accuracy: 8542/10000 (85.42%)\n",
            "\n",
            "EPOCH: 16\n",
            "learning rate  0.11019960576\n"
          ],
          "name": "stdout"
        },
        {
          "output_type": "stream",
          "text": [
            "Loss=0.5814327597618103 Batch_id=97 Accuracy=82.64: 100%|██████████| 98/98 [00:24<00:00,  3.95it/s]\n",
            "  0%|          | 0/98 [00:00<?, ?it/s]"
          ],
          "name": "stderr"
        },
        {
          "output_type": "stream",
          "text": [
            "\n",
            "Test set: Average loss: 0.5575, Accuracy: 8312/10000 (83.12%)\n",
            "\n",
            "EPOCH: 17\n",
            "learning rate  0.11019960576\n"
          ],
          "name": "stdout"
        },
        {
          "output_type": "stream",
          "text": [
            "Loss=0.4085465967655182 Batch_id=97 Accuracy=88.04: 100%|██████████| 98/98 [00:24<00:00,  3.97it/s]\n",
            "  0%|          | 0/98 [00:00<?, ?it/s]"
          ],
          "name": "stderr"
        },
        {
          "output_type": "stream",
          "text": [
            "\n",
            "Test set: Average loss: 0.5633, Accuracy: 8353/10000 (83.53%)\n",
            "\n",
            "EPOCH: 18\n",
            "learning rate  0.198359290368\n"
          ],
          "name": "stdout"
        },
        {
          "output_type": "stream",
          "text": [
            "Loss=0.580238401889801 Batch_id=97 Accuracy=77.31: 100%|██████████| 98/98 [00:24<00:00,  3.96it/s]\n",
            "  0%|          | 0/98 [00:00<?, ?it/s]"
          ],
          "name": "stderr"
        },
        {
          "output_type": "stream",
          "text": [
            "\n",
            "Test set: Average loss: 0.5274, Accuracy: 8265/10000 (82.65%)\n",
            "\n",
            "EPOCH: 19\n",
            "learning rate  0.198359290368\n"
          ],
          "name": "stdout"
        },
        {
          "output_type": "stream",
          "text": [
            "Loss=0.4744760990142822 Batch_id=97 Accuracy=87.54: 100%|██████████| 98/98 [00:24<00:00,  3.95it/s]\n",
            "  0%|          | 0/98 [00:00<?, ?it/s]"
          ],
          "name": "stderr"
        },
        {
          "output_type": "stream",
          "text": [
            "\n",
            "Test set: Average loss: 0.4385, Accuracy: 8596/10000 (85.96%)\n",
            "\n",
            "EPOCH: 20\n",
            "learning rate  0.3570467226624\n"
          ],
          "name": "stdout"
        },
        {
          "output_type": "stream",
          "text": [
            "Loss=0.5125204920768738 Batch_id=97 Accuracy=86.42: 100%|██████████| 98/98 [00:24<00:00,  3.97it/s]\n",
            "  0%|          | 0/98 [00:00<?, ?it/s]"
          ],
          "name": "stderr"
        },
        {
          "output_type": "stream",
          "text": [
            "\n",
            "Test set: Average loss: 0.6487, Accuracy: 7982/10000 (79.82%)\n",
            "\n",
            "emptying the cache\n",
            "EPOCH: 21\n",
            "learning rate  0.3570467226624\n"
          ],
          "name": "stdout"
        },
        {
          "output_type": "stream",
          "text": [
            "Loss=0.33281487226486206 Batch_id=97 Accuracy=88.96: 100%|██████████| 98/98 [00:24<00:00,  3.96it/s]\n",
            "  0%|          | 0/98 [00:00<?, ?it/s]"
          ],
          "name": "stderr"
        },
        {
          "output_type": "stream",
          "text": [
            "\n",
            "Test set: Average loss: 0.5194, Accuracy: 8525/10000 (85.25%)\n",
            "\n",
            "EPOCH: 22\n",
            "learning rate  0.6426841007923201\n"
          ],
          "name": "stdout"
        },
        {
          "output_type": "stream",
          "text": [
            "Loss=0.4724157452583313 Batch_id=97 Accuracy=84.61: 100%|██████████| 98/98 [00:24<00:00,  3.94it/s]\n",
            "  0%|          | 0/98 [00:00<?, ?it/s]"
          ],
          "name": "stderr"
        },
        {
          "output_type": "stream",
          "text": [
            "\n",
            "Test set: Average loss: 0.6067, Accuracy: 7999/10000 (79.99%)\n",
            "\n",
            "EPOCH: 23\n",
            "learning rate  0.6426841007923201\n"
          ],
          "name": "stdout"
        },
        {
          "output_type": "stream",
          "text": [
            "Loss=0.6282763481140137 Batch_id=97 Accuracy=79.31: 100%|██████████| 98/98 [00:24<00:00,  3.96it/s]\n"
          ],
          "name": "stderr"
        },
        {
          "output_type": "stream",
          "text": [
            "\n",
            "Test set: Average loss: 0.6560, Accuracy: 7947/10000 (79.47%)\n",
            "\n"
          ],
          "name": "stdout"
        }
      ]
    },
    {
      "cell_type": "code",
      "metadata": {
        "id": "gmaKcWiD6TXk",
        "outputId": "7eb2afc2-92df-46d6-b102-2a773714ff0f",
        "colab": {
          "base_uri": "https://localhost:8080/",
          "height": 303
        }
      },
      "source": [
        "# plt the learning rate vs. accuracy. Get the best acc. \n",
        "\n",
        "(lr,acc) = learning_rate\n",
        "plt.plot(lr,acc)\n",
        "plt.plot(lr[:],acc[:]) # Zoom the plt a little bit. \n",
        "plt.ylabel('Accuracy')\n",
        "plt.xlabel('Learning rate')\n",
        "best_acc = lr[acc.index(max(acc))] # get the index where acc is max and get the learning rate of that index. \n",
        "\n",
        "print('Best ACC and Learning Rate are', max(lr), max(acc), best_acc)"
      ],
      "execution_count": 22,
      "outputs": [
        {
          "output_type": "stream",
          "text": [
            "Best ACC and Learning Rate are 0.6426841007923201 88.962 0.3570467226624\n"
          ],
          "name": "stdout"
        },
        {
          "output_type": "display_data",
          "data": {
            "image/png": "[encoded data removed]",
            "text/plain": [
              "<Figure size 432x288 with 1 Axes>"
            ]
          },
          "metadata": {
            "tags": []
          }
        }
      ]
    },
    {
      "cell_type": "markdown",
      "metadata": {
        "id": "NPODjy5V2Gt5"
      },
      "source": [
        "Epochs = 24, \n",
        "batch size = 512\n",
        "number of batchs per epoch = 50k/512 = 98\n",
        "\n",
        "Max at 5 epochs - 5*98 = 490 step. \n"
      ]
    },
    {
      "cell_type": "markdown",
      "metadata": {
        "id": "En14ZpTr-yu5"
      },
      "source": [
        "# Learning Rate Finder - Increase the learning rate from low value to high value. \n",
        "\n",
        "Plot learning rate vs accuracy to come up with max learning rate. "
      ]
    },
    {
      "cell_type": "code",
      "metadata": {
        "id": "7Hr5o_IHOj1x"
      },
      "source": [
        "# one cycle LR\n",
        "\n",
        "# best_acc=0.03\n",
        "\n",
        "from torch.optim.lr_scheduler import OneCycleLR\n",
        "\n",
        "import torch.optim as optim\n",
        "from torch.optim.lr_scheduler import OneCycleLR\n",
        "\n",
        "criterion = nn.CrossEntropyLoss()\n",
        "optimizer = optim.SGD(model.parameters(), lr=best_acc, momentum=0.9, nesterov=False)\n",
        "\n",
        "scheduler =OneCycleLR(optimizer, max_lr=best_acc, steps_per_epoch=1,\n",
        "                      epochs=EPOCHS,div_factor = 100,final_div_factor=1,pct_start=5/EPOCHS,\n",
        "                      anneal_strategy=\"linear\")#,cycle_momentum=False,div_factor = 10, final_div_factor = 1)\n",
        "\n"
      ],
      "execution_count": 25,
      "outputs": []
    },
    {
      "cell_type": "code",
      "metadata": {
        "id": "moCZsLLNOjXh",
        "outputId": "e3fcaff3-4baa-4d60-e9ce-0e7ee684b9a9",
        "colab": {
          "base_uri": "https://localhost:8080/",
          "height": 285
        }
      },
      "source": [
        "lr_list =[]\n",
        "for i in range(EPOCHS):\n",
        "  # print('EPOCH',i)\n",
        "  # print(optimizer.param_groups[0]['lr'])\n",
        "  lr_list.append(optimizer.param_groups[0]['lr'])\n",
        "  optimizer.step()\n",
        "  scheduler.step()\n",
        "plt.plot(lr_list) "
      ],
      "execution_count": 24,
      "outputs": [
        {
          "output_type": "execute_result",
          "data": {
            "text/plain": [
              "[<matplotlib.lines.Line2D at 0x7f4b5e5fa9e8>]"
            ]
          },
          "metadata": {
            "tags": []
          },
          "execution_count": 24
        },
        {
          "output_type": "display_data",
          "data": {
            "image/png": "[encoded data removed]",
            "text/plain": [
              "<Figure size 432x288 with 1 Axes>"
            ]
          },
          "metadata": {
            "tags": []
          }
        }
      ]
    },
    {
      "cell_type": "code",
      "metadata": {
        "id": "NIvSHM2CfGB3",
        "outputId": "1de3af0f-f488-4bd1-85c4-2c26ae905f69",
        "colab": {
          "base_uri": "https://localhost:8080/",
          "height": 1000
        }
      },
      "source": [
        "exp_name = 'ONe cycle policy'\n",
        "\n",
        "trainer = Test_Train_OCP.Trainer(model,device,train_loader,test_loader,optimizer,start_epoch,EPOCHS,scheduler,model_save_path,best_acc)\n",
        "train_metric, test_metric,learning_rate = trainer.train(l1_lambda=0, l2_lambda=0)\n",
        "\n",
        "# save the metrics in dictionary\n",
        "metric_values[exp_name] = (train_metric, test_metric)"
      ],
      "execution_count": 26,
      "outputs": [
        {
          "output_type": "stream",
          "text": [
            "\r  0%|          | 0/98 [00:00<?, ?it/s]"
          ],
          "name": "stderr"
        },
        {
          "output_type": "stream",
          "text": [
            "EPOCH: 0\n",
            "learning rate  0.003570467226624\n"
          ],
          "name": "stdout"
        },
        {
          "output_type": "stream",
          "text": [
            "Loss=1.5111966133117676 Batch_id=97 Accuracy=39.92: 100%|██████████| 98/98 [00:25<00:00,  3.91it/s]\n"
          ],
          "name": "stderr"
        },
        {
          "output_type": "stream",
          "text": [
            "\n",
            "Test set: Average loss: 1.5622, Accuracy: 5105/10000 (51.05%)\n",
            "\n",
            "...BEST MODEL...\n"
          ],
          "name": "stdout"
        },
        {
          "output_type": "stream",
          "text": [
            "\r  0%|          | 0/98 [00:00<?, ?it/s]"
          ],
          "name": "stderr"
        },
        {
          "output_type": "stream",
          "text": [
            "Save success...\n",
            "emptying the cache\n",
            "EPOCH: 1\n",
            "learning rate  0.091939531085568\n"
          ],
          "name": "stdout"
        },
        {
          "output_type": "stream",
          "text": [
            "Loss=0.5205193161964417 Batch_id=97 Accuracy=72.89: 100%|██████████| 98/98 [00:25<00:00,  3.91it/s]\n"
          ],
          "name": "stderr"
        },
        {
          "output_type": "stream",
          "text": [
            "\n",
            "Test set: Average loss: 0.5551, Accuracy: 8164/10000 (81.64%)\n",
            "\n",
            "...BEST MODEL...\n"
          ],
          "name": "stdout"
        },
        {
          "output_type": "stream",
          "text": [
            "\r  0%|          | 0/98 [00:00<?, ?it/s]"
          ],
          "name": "stderr"
        },
        {
          "output_type": "stream",
          "text": [
            "Save success...\n",
            "EPOCH: 2\n",
            "learning rate  0.18030859494451199\n"
          ],
          "name": "stdout"
        },
        {
          "output_type": "stream",
          "text": [
            "Loss=0.34764283895492554 Batch_id=97 Accuracy=85.64: 100%|██████████| 98/98 [00:24<00:00,  3.96it/s]\n"
          ],
          "name": "stderr"
        },
        {
          "output_type": "stream",
          "text": [
            "\n",
            "Test set: Average loss: 0.4719, Accuracy: 8445/10000 (84.45%)\n",
            "\n",
            "...BEST MODEL...\n"
          ],
          "name": "stdout"
        },
        {
          "output_type": "stream",
          "text": [
            "\r  0%|          | 0/98 [00:00<?, ?it/s]"
          ],
          "name": "stderr"
        },
        {
          "output_type": "stream",
          "text": [
            "Save success...\n",
            "EPOCH: 3\n",
            "learning rate  0.268677658803456\n"
          ],
          "name": "stdout"
        },
        {
          "output_type": "stream",
          "text": [
            "Loss=0.3713853359222412 Batch_id=97 Accuracy=88.82: 100%|██████████| 98/98 [00:24<00:00,  3.96it/s]\n"
          ],
          "name": "stderr"
        },
        {
          "output_type": "stream",
          "text": [
            "\n",
            "Test set: Average loss: 0.4379, Accuracy: 8582/10000 (85.82%)\n",
            "\n",
            "...BEST MODEL...\n"
          ],
          "name": "stdout"
        },
        {
          "output_type": "stream",
          "text": [
            "\r  0%|          | 0/98 [00:00<?, ?it/s]"
          ],
          "name": "stderr"
        },
        {
          "output_type": "stream",
          "text": [
            "Save success...\n",
            "EPOCH: 4\n",
            "learning rate  0.3570467226624\n"
          ],
          "name": "stdout"
        },
        {
          "output_type": "stream",
          "text": [
            "Loss=0.3258959650993347 Batch_id=97 Accuracy=90.82: 100%|██████████| 98/98 [00:24<00:00,  3.96it/s]\n"
          ],
          "name": "stderr"
        },
        {
          "output_type": "stream",
          "text": [
            "\n",
            "Test set: Average loss: 0.4800, Accuracy: 8508/10000 (85.08%)\n",
            "\n",
            "...BEST MODEL...\n"
          ],
          "name": "stdout"
        },
        {
          "output_type": "stream",
          "text": [
            "\r  0%|          | 0/98 [00:00<?, ?it/s]"
          ],
          "name": "stderr"
        },
        {
          "output_type": "stream",
          "text": [
            "Save success...\n",
            "EPOCH: 5\n",
            "learning rate  0.3384427092184118\n"
          ],
          "name": "stdout"
        },
        {
          "output_type": "stream",
          "text": [
            "Loss=0.21156471967697144 Batch_id=97 Accuracy=92.38: 100%|██████████| 98/98 [00:24<00:00,  3.97it/s]\n"
          ],
          "name": "stderr"
        },
        {
          "output_type": "stream",
          "text": [
            "\n",
            "Test set: Average loss: 0.4034, Accuracy: 8800/10000 (88.00%)\n",
            "\n",
            "...BEST MODEL...\n"
          ],
          "name": "stdout"
        },
        {
          "output_type": "stream",
          "text": [
            "\r  0%|          | 0/98 [00:00<?, ?it/s]"
          ],
          "name": "stderr"
        },
        {
          "output_type": "stream",
          "text": [
            "Save success...\n",
            "EPOCH: 6\n",
            "learning rate  0.3198386957744236\n"
          ],
          "name": "stdout"
        },
        {
          "output_type": "stream",
          "text": [
            "Loss=0.1566920131444931 Batch_id=97 Accuracy=93.47: 100%|██████████| 98/98 [00:24<00:00,  3.98it/s]\n"
          ],
          "name": "stderr"
        },
        {
          "output_type": "stream",
          "text": [
            "\n",
            "Test set: Average loss: 0.4078, Accuracy: 8843/10000 (88.43%)\n",
            "\n",
            "...BEST MODEL...\n"
          ],
          "name": "stdout"
        },
        {
          "output_type": "stream",
          "text": [
            "\r  0%|          | 0/98 [00:00<?, ?it/s]"
          ],
          "name": "stderr"
        },
        {
          "output_type": "stream",
          "text": [
            "Save success...\n",
            "EPOCH: 7\n",
            "learning rate  0.3012346823304354\n"
          ],
          "name": "stdout"
        },
        {
          "output_type": "stream",
          "text": [
            "Loss=0.10332485288381577 Batch_id=97 Accuracy=94.53: 100%|██████████| 98/98 [00:24<00:00,  3.96it/s]\n"
          ],
          "name": "stderr"
        },
        {
          "output_type": "stream",
          "text": [
            "\n",
            "Test set: Average loss: 0.4594, Accuracy: 8759/10000 (87.59%)\n",
            "\n",
            "...BEST MODEL...\n"
          ],
          "name": "stdout"
        },
        {
          "output_type": "stream",
          "text": [
            "\r  0%|          | 0/98 [00:00<?, ?it/s]"
          ],
          "name": "stderr"
        },
        {
          "output_type": "stream",
          "text": [
            "Save success...\n",
            "EPOCH: 8\n",
            "learning rate  0.28263066888644717\n"
          ],
          "name": "stdout"
        },
        {
          "output_type": "stream",
          "text": [
            "Loss=0.10604455322027206 Batch_id=97 Accuracy=95.43: 100%|██████████| 98/98 [00:24<00:00,  3.96it/s]\n"
          ],
          "name": "stderr"
        },
        {
          "output_type": "stream",
          "text": [
            "\n",
            "Test set: Average loss: 0.4752, Accuracy: 8739/10000 (87.39%)\n",
            "\n",
            "...BEST MODEL...\n"
          ],
          "name": "stdout"
        },
        {
          "output_type": "stream",
          "text": [
            "\r  0%|          | 0/98 [00:00<?, ?it/s]"
          ],
          "name": "stderr"
        },
        {
          "output_type": "stream",
          "text": [
            "Save success...\n",
            "EPOCH: 9\n",
            "learning rate  0.26402665544245896\n"
          ],
          "name": "stdout"
        },
        {
          "output_type": "stream",
          "text": [
            "Loss=0.1741635799407959 Batch_id=97 Accuracy=95.80: 100%|██████████| 98/98 [00:24<00:00,  3.96it/s]\n"
          ],
          "name": "stderr"
        },
        {
          "output_type": "stream",
          "text": [
            "\n",
            "Test set: Average loss: 0.4379, Accuracy: 8863/10000 (88.63%)\n",
            "\n",
            "...BEST MODEL...\n"
          ],
          "name": "stdout"
        },
        {
          "output_type": "stream",
          "text": [
            "\r  0%|          | 0/98 [00:00<?, ?it/s]"
          ],
          "name": "stderr"
        },
        {
          "output_type": "stream",
          "text": [
            "Save success...\n",
            "EPOCH: 10\n",
            "learning rate  0.24542264199847075\n"
          ],
          "name": "stdout"
        },
        {
          "output_type": "stream",
          "text": [
            "Loss=0.10595831274986267 Batch_id=97 Accuracy=96.53: 100%|██████████| 98/98 [00:24<00:00,  3.94it/s]\n"
          ],
          "name": "stderr"
        },
        {
          "output_type": "stream",
          "text": [
            "\n",
            "Test set: Average loss: 0.4545, Accuracy: 8839/10000 (88.39%)\n",
            "\n",
            "...BEST MODEL...\n",
            "Save success...\n"
          ],
          "name": "stdout"
        },
        {
          "output_type": "stream",
          "text": [
            "\r  0%|          | 0/98 [00:00<?, ?it/s]"
          ],
          "name": "stderr"
        },
        {
          "output_type": "stream",
          "text": [
            "emptying the cache\n",
            "EPOCH: 11\n",
            "learning rate  0.22681862855448254\n"
          ],
          "name": "stdout"
        },
        {
          "output_type": "stream",
          "text": [
            "Loss=0.0613643154501915 Batch_id=97 Accuracy=96.87: 100%|██████████| 98/98 [00:24<00:00,  3.98it/s]\n"
          ],
          "name": "stderr"
        },
        {
          "output_type": "stream",
          "text": [
            "\n",
            "Test set: Average loss: 0.4677, Accuracy: 8851/10000 (88.51%)\n",
            "\n",
            "...BEST MODEL...\n"
          ],
          "name": "stdout"
        },
        {
          "output_type": "stream",
          "text": [
            "\r  0%|          | 0/98 [00:00<?, ?it/s]"
          ],
          "name": "stderr"
        },
        {
          "output_type": "stream",
          "text": [
            "Save success...\n",
            "EPOCH: 12\n",
            "learning rate  0.20821461511049433\n"
          ],
          "name": "stdout"
        },
        {
          "output_type": "stream",
          "text": [
            "Loss=0.13107681274414062 Batch_id=97 Accuracy=97.19: 100%|██████████| 98/98 [00:24<00:00,  3.97it/s]\n"
          ],
          "name": "stderr"
        },
        {
          "output_type": "stream",
          "text": [
            "\n",
            "Test set: Average loss: 0.5012, Accuracy: 8827/10000 (88.27%)\n",
            "\n",
            "...BEST MODEL...\n"
          ],
          "name": "stdout"
        },
        {
          "output_type": "stream",
          "text": [
            "\r  0%|          | 0/98 [00:00<?, ?it/s]"
          ],
          "name": "stderr"
        },
        {
          "output_type": "stream",
          "text": [
            "Save success...\n",
            "EPOCH: 13\n",
            "learning rate  0.18961060166650612\n"
          ],
          "name": "stdout"
        },
        {
          "output_type": "stream",
          "text": [
            "Loss=0.06936434656381607 Batch_id=97 Accuracy=97.74: 100%|██████████| 98/98 [00:24<00:00,  3.97it/s]\n"
          ],
          "name": "stderr"
        },
        {
          "output_type": "stream",
          "text": [
            "\n",
            "Test set: Average loss: 0.4507, Accuracy: 8911/10000 (89.11%)\n",
            "\n",
            "...BEST MODEL...\n",
            "Save success...\n",
            "EPOCH: 14\n",
            "learning rate  0.1710065882225179\n"
          ],
          "name": "stdout"
        },
        {
          "output_type": "stream",
          "text": [
            "Loss=0.03478862717747688 Batch_id=97 Accuracy=97.91: 100%|██████████| 98/98 [00:24<00:00,  3.96it/s]\n"
          ],
          "name": "stderr"
        },
        {
          "output_type": "stream",
          "text": [
            "\n",
            "Test set: Average loss: 0.4832, Accuracy: 8911/10000 (89.11%)\n",
            "\n",
            "...BEST MODEL...\n"
          ],
          "name": "stdout"
        },
        {
          "output_type": "stream",
          "text": [
            "\r  0%|          | 0/98 [00:00<?, ?it/s]"
          ],
          "name": "stderr"
        },
        {
          "output_type": "stream",
          "text": [
            "Save success...\n",
            "EPOCH: 15\n",
            "learning rate  0.1524025747785297\n"
          ],
          "name": "stdout"
        },
        {
          "output_type": "stream",
          "text": [
            "Loss=0.06049540638923645 Batch_id=97 Accuracy=98.22: 100%|██████████| 98/98 [00:24<00:00,  3.96it/s]\n"
          ],
          "name": "stderr"
        },
        {
          "output_type": "stream",
          "text": [
            "\n",
            "Test set: Average loss: 0.5045, Accuracy: 8890/10000 (88.90%)\n",
            "\n",
            "...BEST MODEL...\n"
          ],
          "name": "stdout"
        },
        {
          "output_type": "stream",
          "text": [
            "\r  0%|          | 0/98 [00:00<?, ?it/s]"
          ],
          "name": "stderr"
        },
        {
          "output_type": "stream",
          "text": [
            "Save success...\n",
            "EPOCH: 16\n",
            "learning rate  0.1337985613345415\n"
          ],
          "name": "stdout"
        },
        {
          "output_type": "stream",
          "text": [
            "Loss=0.04909142851829529 Batch_id=97 Accuracy=98.40: 100%|██████████| 98/98 [00:24<00:00,  3.97it/s]\n"
          ],
          "name": "stderr"
        },
        {
          "output_type": "stream",
          "text": [
            "\n",
            "Test set: Average loss: 0.5067, Accuracy: 8915/10000 (89.15%)\n",
            "\n",
            "...BEST MODEL...\n"
          ],
          "name": "stdout"
        },
        {
          "output_type": "stream",
          "text": [
            "\r  0%|          | 0/98 [00:00<?, ?it/s]"
          ],
          "name": "stderr"
        },
        {
          "output_type": "stream",
          "text": [
            "Save success...\n",
            "EPOCH: 17\n",
            "learning rate  0.11519454789055328\n"
          ],
          "name": "stdout"
        },
        {
          "output_type": "stream",
          "text": [
            "Loss=0.04836173728108406 Batch_id=97 Accuracy=98.73: 100%|██████████| 98/98 [00:24<00:00,  3.96it/s]\n"
          ],
          "name": "stderr"
        },
        {
          "output_type": "stream",
          "text": [
            "\n",
            "Test set: Average loss: 0.4819, Accuracy: 8981/10000 (89.81%)\n",
            "\n",
            "...BEST MODEL...\n"
          ],
          "name": "stdout"
        },
        {
          "output_type": "stream",
          "text": [
            "\r  0%|          | 0/98 [00:00<?, ?it/s]"
          ],
          "name": "stderr"
        },
        {
          "output_type": "stream",
          "text": [
            "Save success...\n",
            "EPOCH: 18\n",
            "learning rate  0.09659053444656507\n"
          ],
          "name": "stdout"
        },
        {
          "output_type": "stream",
          "text": [
            "Loss=0.040741197764873505 Batch_id=97 Accuracy=98.80: 100%|██████████| 98/98 [00:24<00:00,  3.95it/s]\n"
          ],
          "name": "stderr"
        },
        {
          "output_type": "stream",
          "text": [
            "\n",
            "Test set: Average loss: 0.4785, Accuracy: 8984/10000 (89.84%)\n",
            "\n",
            "...BEST MODEL...\n"
          ],
          "name": "stdout"
        },
        {
          "output_type": "stream",
          "text": [
            "\r  0%|          | 0/98 [00:00<?, ?it/s]"
          ],
          "name": "stderr"
        },
        {
          "output_type": "stream",
          "text": [
            "Save success...\n",
            "EPOCH: 19\n",
            "learning rate  0.07798652100257686\n"
          ],
          "name": "stdout"
        },
        {
          "output_type": "stream",
          "text": [
            "Loss=0.007666494231671095 Batch_id=97 Accuracy=99.03: 100%|██████████| 98/98 [00:24<00:00,  3.96it/s]\n"
          ],
          "name": "stderr"
        },
        {
          "output_type": "stream",
          "text": [
            "\n",
            "Test set: Average loss: 0.4860, Accuracy: 9058/10000 (90.58%)\n",
            "\n",
            "...BEST MODEL...\n"
          ],
          "name": "stdout"
        },
        {
          "output_type": "stream",
          "text": [
            "\r  0%|          | 0/98 [00:00<?, ?it/s]"
          ],
          "name": "stderr"
        },
        {
          "output_type": "stream",
          "text": [
            "Save success...\n",
            "EPOCH: 20\n",
            "learning rate  0.05938250755858865\n"
          ],
          "name": "stdout"
        },
        {
          "output_type": "stream",
          "text": [
            "Loss=0.02170400880277157 Batch_id=97 Accuracy=99.18: 100%|██████████| 98/98 [00:24<00:00,  3.95it/s]\n"
          ],
          "name": "stderr"
        },
        {
          "output_type": "stream",
          "text": [
            "\n",
            "Test set: Average loss: 0.4762, Accuracy: 9027/10000 (90.27%)\n",
            "\n",
            "...BEST MODEL...\n"
          ],
          "name": "stdout"
        },
        {
          "output_type": "stream",
          "text": [
            "\r  0%|          | 0/98 [00:00<?, ?it/s]"
          ],
          "name": "stderr"
        },
        {
          "output_type": "stream",
          "text": [
            "Save success...\n",
            "emptying the cache\n",
            "EPOCH: 21\n",
            "learning rate  0.04077849411460044\n"
          ],
          "name": "stdout"
        },
        {
          "output_type": "stream",
          "text": [
            "Loss=0.0209543127566576 Batch_id=97 Accuracy=99.32: 100%|██████████| 98/98 [00:25<00:00,  3.91it/s]\n"
          ],
          "name": "stderr"
        },
        {
          "output_type": "stream",
          "text": [
            "\n",
            "Test set: Average loss: 0.4793, Accuracy: 9020/10000 (90.20%)\n",
            "\n",
            "...BEST MODEL...\n"
          ],
          "name": "stdout"
        },
        {
          "output_type": "stream",
          "text": [
            "\r  0%|          | 0/98 [00:00<?, ?it/s]"
          ],
          "name": "stderr"
        },
        {
          "output_type": "stream",
          "text": [
            "Save success...\n",
            "EPOCH: 22\n",
            "learning rate  0.02217448067061223\n"
          ],
          "name": "stdout"
        },
        {
          "output_type": "stream",
          "text": [
            "Loss=0.015601965598762035 Batch_id=97 Accuracy=99.47: 100%|██████████| 98/98 [00:25<00:00,  3.92it/s]\n"
          ],
          "name": "stderr"
        },
        {
          "output_type": "stream",
          "text": [
            "\n",
            "Test set: Average loss: 0.4717, Accuracy: 9053/10000 (90.53%)\n",
            "\n",
            "...BEST MODEL...\n"
          ],
          "name": "stdout"
        },
        {
          "output_type": "stream",
          "text": [
            "\r  0%|          | 0/98 [00:00<?, ?it/s]"
          ],
          "name": "stderr"
        },
        {
          "output_type": "stream",
          "text": [
            "Save success...\n",
            "EPOCH: 23\n",
            "learning rate  0.003570467226624019\n"
          ],
          "name": "stdout"
        },
        {
          "output_type": "stream",
          "text": [
            "Loss=0.0059045650996267796 Batch_id=97 Accuracy=99.44: 100%|██████████| 98/98 [00:25<00:00,  3.89it/s]\n"
          ],
          "name": "stderr"
        },
        {
          "output_type": "stream",
          "text": [
            "\n",
            "Test set: Average loss: 0.4702, Accuracy: 9061/10000 (90.61%)\n",
            "\n",
            "...BEST MODEL...\n",
            "Save success...\n"
          ],
          "name": "stdout"
        }
      ]
    },
    {
      "cell_type": "code",
      "metadata": {
        "id": "d9tgotb_rOrK",
        "outputId": "e914599e-097c-48c7-e2c9-4f3991a95321",
        "colab": {
          "base_uri": "https://localhost:8080/",
          "height": 610
        }
      },
      "source": [
        "Plots.plot_metrics(train_metric, test_metric)"
      ],
      "execution_count": 27,
      "outputs": [
        {
          "output_type": "display_data",
          "data": {
            "image/png": "[encoded data removed]",
            "text/plain": [
              "<Figure size 1080x720 with 4 Axes>"
            ]
          },
          "metadata": {
            "tags": []
          }
        }
      ]
    },
    {
      "cell_type": "markdown",
      "metadata": {
        "id": "DFsjQPwy7M7p"
      },
      "source": [
        "# Plot misclassified"
      ]
    },
    {
      "cell_type": "code",
      "metadata": {
        "id": "CpC-Bk3TjV6w",
        "outputId": "29b48eae-d99e-40dd-9cc4-f5d0eb74135e",
        "colab": {
          "base_uri": "https://localhost:8080/",
          "height": 961
        }
      },
      "source": [
        "misclass_img_list = plot_misclassified(model, test_loader, device,classes)"
      ],
      "execution_count": 28,
      "outputs": [
        {
          "output_type": "stream",
          "text": [
            "Clipping input data to the valid range for imshow with RGB data ([0..1] for floats or [0..255] for integers).\n",
            "Clipping input data to the valid range for imshow with RGB data ([0..1] for floats or [0..255] for integers).\n",
            "Clipping input data to the valid range for imshow with RGB data ([0..1] for floats or [0..255] for integers).\n"
          ],
          "name": "stderr"
        },
        {
          "output_type": "display_data",
          "data": {
            "image/png": "[encoded data removed]",
            "text/plain": [
              "<Figure size 1440x1440 with 20 Axes>"
            ]
          },
          "metadata": {
            "tags": []
          }
        }
      ]
    },
    {
      "cell_type": "code",
      "metadata": {
        "id": "yRgd8qoBO6Kp",
        "outputId": "591a49c2-b8e7-4fa0-e544-fae1c1a70465",
        "colab": {
          "base_uri": "https://localhost:8080/",
          "height": 35
        }
      },
      "source": [
        "len(misclass_img_list)"
      ],
      "execution_count": 29,
      "outputs": [
        {
          "output_type": "execute_result",
          "data": {
            "text/plain": [
              "20"
            ]
          },
          "metadata": {
            "tags": []
          },
          "execution_count": 29
        }
      ]
    },
    {
      "cell_type": "code",
      "metadata": {
        "id": "-yWk79rjqxEn"
      },
      "source": [
        "mis_img_name_list = save_misclassified(misclass_img_list)\n",
        "pil_image = download_img_pil(mis_img_name_list)\n",
        "torch_img_list,normed_torch_img = pil_img_transform(pil_image,device)"
      ],
      "execution_count": null,
      "outputs": []
    },
    {
      "cell_type": "code",
      "metadata": {
        "id": "WgUcLA-x1GSr"
      },
      "source": [
        "len(mis_img_name_list), len(pil_image), len(torch_img_list)"
      ],
      "execution_count": null,
      "outputs": []
    },
    {
      "cell_type": "code",
      "metadata": {
        "id": "nrPyT-sByOvq"
      },
      "source": [
        "\n",
        "import copy\n",
        "from torchvision.utils import make_grid, save_image\n",
        "\n",
        "for i,k in enumerate(normed_torch_img):\n",
        "  images1 = [torch_img_list[i].cpu()]\n",
        "  images2 =  [torch_img_list[i].cpu()]\n",
        "  b = copy.deepcopy(model.to(device))\n",
        "  output = model(normed_torch_img[i])\n",
        "  _, predicted = torch.max(output.data, 1)\n",
        "  #print(classes[int(predicted)])\n",
        "  layers =  [b.layer1,b.layer2,b.layer3,b.layer4]\n",
        "  for j in layers:\n",
        "    g = GradCAM(b,j)\n",
        "    mask, _= g(normed_torch_img[i])\n",
        "    heatmap, result = visualize_cam(mask,torch_img_list[i] )\n",
        "    images1.extend([heatmap])\n",
        "    images2.extend([result])\n",
        "    \n",
        "\n",
        "  grid_image = make_grid(images2,nrow=5,padding=2,normalize=False)\n",
        "\n",
        "  imshow1(grid_image,c = classes[int(predicted)])"
      ],
      "execution_count": null,
      "outputs": []
    },
    {
      "cell_type": "code",
      "metadata": {
        "id": "lW3XE30Hb5aD"
      },
      "source": [
        ""
      ],
      "execution_count": null,
      "outputs": []
    }
  ]
}